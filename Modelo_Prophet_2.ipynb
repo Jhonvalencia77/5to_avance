{
 "cells": [
  {
   "cell_type": "markdown",
   "id": "cd630a88",
   "metadata": {},
   "source": [
    "## Hay que hacer un Modelo que utilice los datos de solo los lunes y se le entrena con el patron de los lunes a las 8 am, 9 am... donde hay más movimiento"
   ]
  }
 ],
 "metadata": {
  "kernelspec": {
   "display_name": "Python 3 (ipykernel)",
   "language": "python",
   "name": "python3"
  },
  "language_info": {
   "codemirror_mode": {
    "name": "ipython",
    "version": 3
   },
   "file_extension": ".py",
   "mimetype": "text/x-python",
   "name": "python",
   "nbconvert_exporter": "python",
   "pygments_lexer": "ipython3",
   "version": "3.9.7"
  }
 },
 "nbformat": 4,
 "nbformat_minor": 5
}
