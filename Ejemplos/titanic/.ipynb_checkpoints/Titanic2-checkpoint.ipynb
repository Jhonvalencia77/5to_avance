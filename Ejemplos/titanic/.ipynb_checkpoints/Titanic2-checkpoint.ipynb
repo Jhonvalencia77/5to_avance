{
 "cells": [
  {
   "cell_type": "code",
   "execution_count": 1,
   "id": "4f9e5c9a",
   "metadata": {},
   "outputs": [],
   "source": [
    "import numpy as np \n",
    "import pandas as pd\n",
    "import matplotlib.pyplot as plt \n",
    "import seaborn as sns"
   ]
  },
  {
   "cell_type": "markdown",
   "id": "3e580457",
   "metadata": {},
   "source": [
    "# Cargamos los datos y dejamos la columna passenger ID como la columna index\n",
    "\n",
    "## Tenemos una variable dependiente \"Survived\"\n",
    "## Tenemos unas variables independientes \"Variables más relevantes\" "
   ]
  },
  {
   "cell_type": "code",
   "execution_count": 2,
   "id": "05e5547b",
   "metadata": {},
   "outputs": [
    {
     "data": {
      "text/html": [
       "<div>\n",
       "<style scoped>\n",
       "    .dataframe tbody tr th:only-of-type {\n",
       "        vertical-align: middle;\n",
       "    }\n",
       "\n",
       "    .dataframe tbody tr th {\n",
       "        vertical-align: top;\n",
       "    }\n",
       "\n",
       "    .dataframe thead th {\n",
       "        text-align: right;\n",
       "    }\n",
       "</style>\n",
       "<table border=\"1\" class=\"dataframe\">\n",
       "  <thead>\n",
       "    <tr style=\"text-align: right;\">\n",
       "      <th></th>\n",
       "      <th>Survived</th>\n",
       "      <th>Pclass</th>\n",
       "      <th>Name</th>\n",
       "      <th>Sex</th>\n",
       "      <th>Age</th>\n",
       "      <th>SibSp</th>\n",
       "      <th>Parch</th>\n",
       "      <th>Ticket</th>\n",
       "      <th>Fare</th>\n",
       "      <th>Cabin</th>\n",
       "      <th>Embarked</th>\n",
       "    </tr>\n",
       "    <tr>\n",
       "      <th>PassengerId</th>\n",
       "      <th></th>\n",
       "      <th></th>\n",
       "      <th></th>\n",
       "      <th></th>\n",
       "      <th></th>\n",
       "      <th></th>\n",
       "      <th></th>\n",
       "      <th></th>\n",
       "      <th></th>\n",
       "      <th></th>\n",
       "      <th></th>\n",
       "    </tr>\n",
       "  </thead>\n",
       "  <tbody>\n",
       "    <tr>\n",
       "      <th>1</th>\n",
       "      <td>0</td>\n",
       "      <td>3</td>\n",
       "      <td>Braund, Mr. Owen Harris</td>\n",
       "      <td>male</td>\n",
       "      <td>22.0</td>\n",
       "      <td>1</td>\n",
       "      <td>0</td>\n",
       "      <td>A/5 21171</td>\n",
       "      <td>7.2500</td>\n",
       "      <td>NaN</td>\n",
       "      <td>S</td>\n",
       "    </tr>\n",
       "    <tr>\n",
       "      <th>2</th>\n",
       "      <td>1</td>\n",
       "      <td>1</td>\n",
       "      <td>Cumings, Mrs. John Bradley (Florence Briggs Th...</td>\n",
       "      <td>female</td>\n",
       "      <td>38.0</td>\n",
       "      <td>1</td>\n",
       "      <td>0</td>\n",
       "      <td>PC 17599</td>\n",
       "      <td>71.2833</td>\n",
       "      <td>C85</td>\n",
       "      <td>C</td>\n",
       "    </tr>\n",
       "  </tbody>\n",
       "</table>\n",
       "</div>"
      ],
      "text/plain": [
       "             Survived  Pclass  \\\n",
       "PassengerId                     \n",
       "1                   0       3   \n",
       "2                   1       1   \n",
       "\n",
       "                                                          Name     Sex   Age  \\\n",
       "PassengerId                                                                    \n",
       "1                                      Braund, Mr. Owen Harris    male  22.0   \n",
       "2            Cumings, Mrs. John Bradley (Florence Briggs Th...  female  38.0   \n",
       "\n",
       "             SibSp  Parch     Ticket     Fare Cabin Embarked  \n",
       "PassengerId                                                   \n",
       "1                1      0  A/5 21171   7.2500   NaN        S  \n",
       "2                1      0   PC 17599  71.2833   C85        C  "
      ]
     },
     "execution_count": 2,
     "metadata": {},
     "output_type": "execute_result"
    }
   ],
   "source": [
    "df_entrenamiento = pd.read_csv(\"/home/jonathan/tesis/5to_avance/Ejemplos/titanic/train.csv\", index_col = \"PassengerId\")\n",
    "df_prueba  = pd.read_csv(\"/home/jonathan/tesis/5to_avance/Ejemplos/titanic/test.csv\", index_col = \"PassengerId\")\n",
    "\n",
    "df_entrenamiento.head(2)"
   ]
  },
  {
   "cell_type": "code",
   "execution_count": 3,
   "id": "55bcadd4",
   "metadata": {},
   "outputs": [
    {
     "data": {
      "text/plain": [
       "(891, 11)"
      ]
     },
     "execution_count": 3,
     "metadata": {},
     "output_type": "execute_result"
    }
   ],
   "source": [
    "df_entrenamiento.shape"
   ]
  },
  {
   "cell_type": "markdown",
   "id": "0d26d152",
   "metadata": {},
   "source": [
    "# Descartamos variables independientes menos relevantes para la predicción "
   ]
  },
  {
   "cell_type": "code",
   "execution_count": 4,
   "id": "35616489",
   "metadata": {},
   "outputs": [
    {
     "data": {
      "text/html": [
       "<div>\n",
       "<style scoped>\n",
       "    .dataframe tbody tr th:only-of-type {\n",
       "        vertical-align: middle;\n",
       "    }\n",
       "\n",
       "    .dataframe tbody tr th {\n",
       "        vertical-align: top;\n",
       "    }\n",
       "\n",
       "    .dataframe thead th {\n",
       "        text-align: right;\n",
       "    }\n",
       "</style>\n",
       "<table border=\"1\" class=\"dataframe\">\n",
       "  <thead>\n",
       "    <tr style=\"text-align: right;\">\n",
       "      <th></th>\n",
       "      <th>Survived</th>\n",
       "      <th>Pclass</th>\n",
       "      <th>Sex</th>\n",
       "      <th>Age</th>\n",
       "      <th>SibSp</th>\n",
       "      <th>Parch</th>\n",
       "      <th>Fare</th>\n",
       "      <th>Cabin</th>\n",
       "      <th>Embarked</th>\n",
       "    </tr>\n",
       "    <tr>\n",
       "      <th>PassengerId</th>\n",
       "      <th></th>\n",
       "      <th></th>\n",
       "      <th></th>\n",
       "      <th></th>\n",
       "      <th></th>\n",
       "      <th></th>\n",
       "      <th></th>\n",
       "      <th></th>\n",
       "      <th></th>\n",
       "    </tr>\n",
       "  </thead>\n",
       "  <tbody>\n",
       "    <tr>\n",
       "      <th>1</th>\n",
       "      <td>0</td>\n",
       "      <td>3</td>\n",
       "      <td>male</td>\n",
       "      <td>22.0</td>\n",
       "      <td>1</td>\n",
       "      <td>0</td>\n",
       "      <td>7.2500</td>\n",
       "      <td>NaN</td>\n",
       "      <td>S</td>\n",
       "    </tr>\n",
       "    <tr>\n",
       "      <th>2</th>\n",
       "      <td>1</td>\n",
       "      <td>1</td>\n",
       "      <td>female</td>\n",
       "      <td>38.0</td>\n",
       "      <td>1</td>\n",
       "      <td>0</td>\n",
       "      <td>71.2833</td>\n",
       "      <td>C85</td>\n",
       "      <td>C</td>\n",
       "    </tr>\n",
       "    <tr>\n",
       "      <th>3</th>\n",
       "      <td>1</td>\n",
       "      <td>3</td>\n",
       "      <td>female</td>\n",
       "      <td>26.0</td>\n",
       "      <td>0</td>\n",
       "      <td>0</td>\n",
       "      <td>7.9250</td>\n",
       "      <td>NaN</td>\n",
       "      <td>S</td>\n",
       "    </tr>\n",
       "    <tr>\n",
       "      <th>4</th>\n",
       "      <td>1</td>\n",
       "      <td>1</td>\n",
       "      <td>female</td>\n",
       "      <td>35.0</td>\n",
       "      <td>1</td>\n",
       "      <td>0</td>\n",
       "      <td>53.1000</td>\n",
       "      <td>C123</td>\n",
       "      <td>S</td>\n",
       "    </tr>\n",
       "    <tr>\n",
       "      <th>5</th>\n",
       "      <td>0</td>\n",
       "      <td>3</td>\n",
       "      <td>male</td>\n",
       "      <td>35.0</td>\n",
       "      <td>0</td>\n",
       "      <td>0</td>\n",
       "      <td>8.0500</td>\n",
       "      <td>NaN</td>\n",
       "      <td>S</td>\n",
       "    </tr>\n",
       "  </tbody>\n",
       "</table>\n",
       "</div>"
      ],
      "text/plain": [
       "             Survived  Pclass     Sex   Age  SibSp  Parch     Fare Cabin  \\\n",
       "PassengerId                                                                \n",
       "1                   0       3    male  22.0      1      0   7.2500   NaN   \n",
       "2                   1       1  female  38.0      1      0  71.2833   C85   \n",
       "3                   1       3  female  26.0      0      0   7.9250   NaN   \n",
       "4                   1       1  female  35.0      1      0  53.1000  C123   \n",
       "5                   0       3    male  35.0      0      0   8.0500   NaN   \n",
       "\n",
       "            Embarked  \n",
       "PassengerId           \n",
       "1                  S  \n",
       "2                  C  \n",
       "3                  S  \n",
       "4                  S  \n",
       "5                  S  "
      ]
     },
     "execution_count": 4,
     "metadata": {},
     "output_type": "execute_result"
    }
   ],
   "source": [
    "df_entrenamiento.drop(['Name', 'Ticket'], axis = 1, inplace  = True)\n",
    "df_entrenamiento.head()"
   ]
  },
  {
   "cell_type": "markdown",
   "id": "585895a2",
   "metadata": {},
   "source": [
    "# Entendimiento de los datos\n",
    "## ¿Debemos hacer una limpieza o transformación de los datos?"
   ]
  },
  {
   "cell_type": "code",
   "execution_count": 5,
   "id": "dff7cc58",
   "metadata": {},
   "outputs": [
    {
     "name": "stdout",
     "output_type": "stream",
     "text": [
      "Resumen:\n",
      "       count  mean   std  min   25%   50%   75%    max\n",
      "Age    714.0  29.7  14.5  0.4  20.1  28.0  38.0   80.0\n",
      "SibSp  891.0   0.5   1.1  0.0   0.0   0.0   1.0    8.0\n",
      "Parch  891.0   0.4   0.8  0.0   0.0   0.0   0.0    6.0\n",
      "Fare   891.0  32.2  49.7  0.0   7.9  14.5  31.0  512.3\n"
     ]
    }
   ],
   "source": [
    "print(\"Resumen:\")\n",
    "print(round(df_entrenamiento[[\"Age\",\"SibSp\",\"Parch\",\"Fare\"]].describe().transpose(),1))"
   ]
  },
  {
   "cell_type": "code",
   "execution_count": 6,
   "id": "4a766e41",
   "metadata": {},
   "outputs": [
    {
     "name": "stdout",
     "output_type": "stream",
     "text": [
      "Variables con Texto:\n",
      "\t\tSex\n",
      "\t\tCabin\n",
      "\t\tEmbarked\n",
      "Variables Numéricas:\n",
      "\t\tSurvived\n",
      "\t\tPclass\n",
      "\t\tAge\n",
      "\t\tSibSp\n",
      "\t\tParch\n",
      "\t\tFare\n"
     ]
    }
   ],
   "source": [
    "print(\"Variables con Texto:\")\n",
    "for i in df_entrenamiento.select_dtypes(include = ['object']):\n",
    "    print(\"\\t\\t\"+i)\n",
    "print(\"Variables Numéricas:\")\n",
    "for i in df_entrenamiento.select_dtypes(exclude = ['object']):\n",
    "    print(\"\\t\\t\"+i)"
   ]
  },
  {
   "cell_type": "code",
   "execution_count": 7,
   "id": "cba35ca9",
   "metadata": {},
   "outputs": [
    {
     "name": "stdout",
     "output_type": "stream",
     "text": [
      "Variables con Nulos\n",
      "Age         177\n",
      "Cabin       687\n",
      "Embarked      2\n",
      "dtype: int64\n"
     ]
    }
   ],
   "source": [
    "print(\"Variables con Nulos\")\n",
    "missing_val_count = (df_entrenamiento.isnull().sum())\n",
    "print(missing_val_count[missing_val_count > 0])"
   ]
  },
  {
   "cell_type": "markdown",
   "id": "f2fcd127",
   "metadata": {},
   "source": [
    "# Identificamos las variables categoricas "
   ]
  },
  {
   "cell_type": "code",
   "execution_count": 8,
   "id": "632c3a5b",
   "metadata": {},
   "outputs": [
    {
     "data": {
      "text/plain": [
       "Survived      2\n",
       "Pclass        3\n",
       "Sex           2\n",
       "Cabin       147\n",
       "Embarked      3\n",
       "dtype: int64"
      ]
     },
     "execution_count": 8,
     "metadata": {},
     "output_type": "execute_result"
    }
   ],
   "source": [
    "var_cat = [ \"Survived\", \"Pclass\", 'Sex', 'Cabin', 'Embarked']\n",
    "df_entrenamiento[var_cat].astype('category')\n",
    "df_entrenamiento[var_cat].nunique()"
   ]
  },
  {
   "cell_type": "markdown",
   "id": "5d990c8e",
   "metadata": {},
   "source": [
    "# Identificación de Patrones\n",
    "## Verificamos si la columna cabina es relevante respecto a la variable supervivencia, ya que esta columna tiene muchas categorias. \n",
    "### Existe más probabilidad de sobrevivir en las cabinas B,D y E si se encuentra relación entre las 2 variables"
   ]
  },
  {
   "cell_type": "code",
   "execution_count": 9,
   "id": "e22b850e",
   "metadata": {},
   "outputs": [
    {
     "data": {
      "text/html": [
       "<style type=\"text/css\">\n",
       "#T_a80d8_row0_col0 {\n",
       "  background-color: #dccaa3;\n",
       "  color: #000000;\n",
       "}\n",
       "#T_a80d8_row0_col1 {\n",
       "  background-color: #c48581;\n",
       "  color: #f1f1f1;\n",
       "}\n",
       "#T_a80d8_row1_col0 {\n",
       "  background-color: #fefefb;\n",
       "  color: #000000;\n",
       "}\n",
       "#T_a80d8_row1_col1 {\n",
       "  background-color: #321a1a;\n",
       "  color: #f1f1f1;\n",
       "}\n",
       "#T_a80d8_row2_col0 {\n",
       "  background-color: #ececc1;\n",
       "  color: #000000;\n",
       "}\n",
       "#T_a80d8_row2_col1 {\n",
       "  background-color: #966161;\n",
       "  color: #f1f1f1;\n",
       "}\n",
       "#T_a80d8_row3_col0, #T_a80d8_row7_col1 {\n",
       "  background-color: #ffffff;\n",
       "  color: #000000;\n",
       "}\n",
       "#T_a80d8_row3_col1, #T_a80d8_row7_col0 {\n",
       "  background-color: #1e0000;\n",
       "  color: #f1f1f1;\n",
       "}\n",
       "#T_a80d8_row4_col0 {\n",
       "  background-color: #fefefd;\n",
       "  color: #000000;\n",
       "}\n",
       "#T_a80d8_row4_col1 {\n",
       "  background-color: #280d0d;\n",
       "  color: #f1f1f1;\n",
       "}\n",
       "#T_a80d8_row5_col0 {\n",
       "  background-color: #eeeeca;\n",
       "  color: #000000;\n",
       "}\n",
       "#T_a80d8_row5_col1 {\n",
       "  background-color: #8d5a5a;\n",
       "  color: #f1f1f1;\n",
       "}\n",
       "#T_a80d8_row6_col0 {\n",
       "  background-color: #e0d5a9;\n",
       "  color: #000000;\n",
       "}\n",
       "#T_a80d8_row6_col1 {\n",
       "  background-color: #bb7a7a;\n",
       "  color: #f1f1f1;\n",
       "}\n",
       "#T_a80d8_row8_col0 {\n",
       "  background-color: #c58a83;\n",
       "  color: #f1f1f1;\n",
       "}\n",
       "#T_a80d8_row8_col1 {\n",
       "  background-color: #dbc7a2;\n",
       "  color: #000000;\n",
       "}\n",
       "</style>\n",
       "<table id=\"T_a80d8\">\n",
       "  <thead>\n",
       "    <tr>\n",
       "      <th class=\"index_name level0\" >Survived</th>\n",
       "      <th id=\"T_a80d8_level0_col0\" class=\"col_heading level0 col0\" >0</th>\n",
       "      <th id=\"T_a80d8_level0_col1\" class=\"col_heading level0 col1\" >1</th>\n",
       "    </tr>\n",
       "    <tr>\n",
       "      <th class=\"index_name level0\" >Cabin_letter</th>\n",
       "      <th class=\"blank col0\" >&nbsp;</th>\n",
       "      <th class=\"blank col1\" >&nbsp;</th>\n",
       "    </tr>\n",
       "  </thead>\n",
       "  <tbody>\n",
       "    <tr>\n",
       "      <th id=\"T_a80d8_level0_row0\" class=\"row_heading level0 row0\" >A</th>\n",
       "      <td id=\"T_a80d8_row0_col0\" class=\"data row0 col0\" >0.533333</td>\n",
       "      <td id=\"T_a80d8_row0_col1\" class=\"data row0 col1\" >0.466667</td>\n",
       "    </tr>\n",
       "    <tr>\n",
       "      <th id=\"T_a80d8_level0_row1\" class=\"row_heading level0 row1\" >B</th>\n",
       "      <td id=\"T_a80d8_row1_col0\" class=\"data row1 col0\" >0.255319</td>\n",
       "      <td id=\"T_a80d8_row1_col1\" class=\"data row1 col1\" >0.744681</td>\n",
       "    </tr>\n",
       "    <tr>\n",
       "      <th id=\"T_a80d8_level0_row2\" class=\"row_heading level0 row2\" >C</th>\n",
       "      <td id=\"T_a80d8_row2_col0\" class=\"data row2 col0\" >0.406780</td>\n",
       "      <td id=\"T_a80d8_row2_col1\" class=\"data row2 col1\" >0.593220</td>\n",
       "    </tr>\n",
       "    <tr>\n",
       "      <th id=\"T_a80d8_level0_row3\" class=\"row_heading level0 row3\" >D</th>\n",
       "      <td id=\"T_a80d8_row3_col0\" class=\"data row3 col0\" >0.242424</td>\n",
       "      <td id=\"T_a80d8_row3_col1\" class=\"data row3 col1\" >0.757576</td>\n",
       "    </tr>\n",
       "    <tr>\n",
       "      <th id=\"T_a80d8_level0_row4\" class=\"row_heading level0 row4\" >E</th>\n",
       "      <td id=\"T_a80d8_row4_col0\" class=\"data row4 col0\" >0.250000</td>\n",
       "      <td id=\"T_a80d8_row4_col1\" class=\"data row4 col1\" >0.750000</td>\n",
       "    </tr>\n",
       "    <tr>\n",
       "      <th id=\"T_a80d8_level0_row5\" class=\"row_heading level0 row5\" >F</th>\n",
       "      <td id=\"T_a80d8_row5_col0\" class=\"data row5 col0\" >0.384615</td>\n",
       "      <td id=\"T_a80d8_row5_col1\" class=\"data row5 col1\" >0.615385</td>\n",
       "    </tr>\n",
       "    <tr>\n",
       "      <th id=\"T_a80d8_level0_row6\" class=\"row_heading level0 row6\" >G</th>\n",
       "      <td id=\"T_a80d8_row6_col0\" class=\"data row6 col0\" >0.500000</td>\n",
       "      <td id=\"T_a80d8_row6_col1\" class=\"data row6 col1\" >0.500000</td>\n",
       "    </tr>\n",
       "    <tr>\n",
       "      <th id=\"T_a80d8_level0_row7\" class=\"row_heading level0 row7\" >T</th>\n",
       "      <td id=\"T_a80d8_row7_col0\" class=\"data row7 col0\" >1.000000</td>\n",
       "      <td id=\"T_a80d8_row7_col1\" class=\"data row7 col1\" >0.000000</td>\n",
       "    </tr>\n",
       "    <tr>\n",
       "      <th id=\"T_a80d8_level0_row8\" class=\"row_heading level0 row8\" >X</th>\n",
       "      <td id=\"T_a80d8_row8_col0\" class=\"data row8 col0\" >0.700146</td>\n",
       "      <td id=\"T_a80d8_row8_col1\" class=\"data row8 col1\" >0.299854</td>\n",
       "    </tr>\n",
       "  </tbody>\n",
       "</table>\n"
      ],
      "text/plain": [
       "<pandas.io.formats.style.Styler at 0x7fe157ffcb20>"
      ]
     },
     "execution_count": 9,
     "metadata": {},
     "output_type": "execute_result"
    }
   ],
   "source": [
    "df_entrenamiento.Cabin.fillna(\"XX\", inplace = True)       # En la columna cabina los NaN los rellena con xx\n",
    "\n",
    "# Crea una nueva columna que contiene la primera letra de la cabina, las celdas NaN las rellena con x\n",
    "df_entrenamiento['Cabin_letter'] =df_entrenamiento.Cabin.str.slice(0, 1) \n",
    "\n",
    "#Creamos una nueva tabla con index la primera letra de la cabina\n",
    "#Crosstab muestra la frecuencia en la que sobreviven o mueren en cada cabina, luego calcula la media con la opcion \"normalize\"\n",
    "pd.crosstab([df_entrenamiento.Cabin_letter],[df_entrenamiento.Survived],    #pd.crosstab(index,columns) \n",
    "            margins=False, normalize='index').style.background_gradient(cmap='pink_r')\n"
   ]
  },
  {
   "cell_type": "markdown",
   "id": "3a666000",
   "metadata": {},
   "source": [
    "# Realizamos el conteo de cada variable categorica"
   ]
  },
  {
   "cell_type": "code",
   "execution_count": 10,
   "id": "2261d338",
   "metadata": {},
   "outputs": [
    {
     "name": "stdout",
     "output_type": "stream",
     "text": [
      "Survived\n",
      "   counts    %\n",
      "0     549  0.6\n",
      "1     342  0.4\n",
      "Pclass\n",
      "   counts    %\n",
      "3     491  0.6\n",
      "1     216  0.2\n",
      "2     184  0.2\n",
      "Sex\n",
      "        counts    %\n",
      "male       577  0.6\n",
      "female     314  0.4\n",
      "Cabin_letter\n",
      "   counts    %\n",
      "X     687  0.8\n",
      "C      59  0.1\n",
      "B      47  0.1\n",
      "D      33  0.0\n",
      "E      32  0.0\n",
      "A      15  0.0\n",
      "F      13  0.0\n",
      "G       4  0.0\n",
      "T       1  0.0\n",
      "Embarked\n",
      "     counts    %\n",
      "S       644  0.7\n",
      "C       168  0.2\n",
      "Q        77  0.1\n",
      "NaN       2  0.0\n"
     ]
    }
   ],
   "source": [
    "var_cat = [ \"Survived\", \"Pclass\", 'Sex', 'Cabin_letter', 'Embarked']\n",
    "for i in var_cat:\n",
    "    print(i)\n",
    "    c = df_entrenamiento[i].value_counts(dropna=False)  # Realiza el conteo para cada variable categorica\n",
    "    p = round(df_entrenamiento[i].value_counts(dropna=False, normalize=True),1) # Calcula la media para el conteo anterior\n",
    "    print(pd.concat([c,p], axis=1, keys=['counts', '%']))   # Línea de código para mostrar los reultados anteriores"
   ]
  },
  {
   "cell_type": "markdown",
   "id": "475358ee",
   "metadata": {},
   "source": [
    "# Observamos las variables para ver los patrones "
   ]
  },
  {
   "cell_type": "code",
   "execution_count": 11,
   "id": "b6e45c86",
   "metadata": {},
   "outputs": [
    {
     "data": {
      "text/plain": [
       "<seaborn.axisgrid.FacetGrid at 0x7fe154dbe2b0>"
      ]
     },
     "execution_count": 11,
     "metadata": {},
     "output_type": "execute_result"
    },
    {
     "data": {
      "image/png": "[encoded data removed]",
      "text/plain": [
       "<Figure size 1122.38x360 with 3 Axes>"
      ]
     },
     "metadata": {
      "needs_background": "light"
     },
     "output_type": "display_data"
    }
   ],
   "source": [
    "g = sns.catplot(x=\"Sex\", y=\"Survived\", hue=\"Pclass\", col=\"Embarked\", data=df_entrenamiento, kind=\"bar\",palette='pink');\n",
    "g.set_xlabels(\"Sexo\")\n",
    "g.set_ylabels(\"Tasa de Supervivencia\")"
   ]
  },
  {
   "cell_type": "markdown",
   "id": "65bac2f0",
   "metadata": {},
   "source": [
    "# Analisis del comportamiento de las variables categoricas\n",
    "## Personas que embarcaron en S y tienen tiquetes de 3ra categoria tienen mayor propabilidad de morir"
   ]
  },
  {
   "cell_type": "code",
   "execution_count": 12,
   "id": "932ba72e",
   "metadata": {},
   "outputs": [
    {
     "data": {
      "text/html": [
       "<style type=\"text/css\">\n",
       "#T_15a2b_row0_col0, #T_15a2b_row1_col2 {\n",
       "  background-color: #fefefc;\n",
       "  color: #000000;\n",
       "}\n",
       "#T_15a2b_row0_col1 {\n",
       "  background-color: #f0f0ce;\n",
       "  color: #000000;\n",
       "}\n",
       "#T_15a2b_row0_col2 {\n",
       "  background-color: #fbfbf2;\n",
       "  color: #000000;\n",
       "}\n",
       "#T_15a2b_row0_col3 {\n",
       "  background-color: #f2f2d5;\n",
       "  color: #000000;\n",
       "}\n",
       "#T_15a2b_row0_col4, #T_15a2b_row2_col3 {\n",
       "  background-color: #f7f7e7;\n",
       "  color: #000000;\n",
       "}\n",
       "#T_15a2b_row1_col0, #T_15a2b_row3_col0, #T_15a2b_row3_col1, #T_15a2b_row3_col2, #T_15a2b_row3_col3, #T_15a2b_row3_col4, #T_15a2b_row4_col0, #T_15a2b_row4_col2, #T_15a2b_row4_col3, #T_15a2b_row4_col4 {\n",
       "  background-color: #ffffff;\n",
       "  color: #000000;\n",
       "}\n",
       "#T_15a2b_row1_col1, #T_15a2b_row6_col0 {\n",
       "  background-color: #fdfdf9;\n",
       "  color: #000000;\n",
       "}\n",
       "#T_15a2b_row1_col3, #T_15a2b_row1_col4 {\n",
       "  background-color: #fefefb;\n",
       "  color: #000000;\n",
       "}\n",
       "#T_15a2b_row2_col0, #T_15a2b_row5_col1 {\n",
       "  background-color: #f7f7e5;\n",
       "  color: #000000;\n",
       "}\n",
       "#T_15a2b_row2_col1 {\n",
       "  background-color: #fafaf0;\n",
       "  color: #000000;\n",
       "}\n",
       "#T_15a2b_row2_col2 {\n",
       "  background-color: #f9f9ee;\n",
       "  color: #000000;\n",
       "}\n",
       "#T_15a2b_row2_col4, #T_15a2b_row7_col0 {\n",
       "  background-color: #f9f9ed;\n",
       "  color: #000000;\n",
       "}\n",
       "#T_15a2b_row4_col1 {\n",
       "  background-color: #fffffe;\n",
       "  color: #000000;\n",
       "}\n",
       "#T_15a2b_row5_col0 {\n",
       "  background-color: #f5f5e2;\n",
       "  color: #000000;\n",
       "}\n",
       "#T_15a2b_row5_col2 {\n",
       "  background-color: #f9f9eb;\n",
       "  color: #000000;\n",
       "}\n",
       "#T_15a2b_row5_col3 {\n",
       "  background-color: #fdfdf8;\n",
       "  color: #000000;\n",
       "}\n",
       "#T_15a2b_row5_col4 {\n",
       "  background-color: #f8f8ea;\n",
       "  color: #000000;\n",
       "}\n",
       "#T_15a2b_row6_col1 {\n",
       "  background-color: #eeeec7;\n",
       "  color: #000000;\n",
       "}\n",
       "#T_15a2b_row6_col2 {\n",
       "  background-color: #f6f6e3;\n",
       "  color: #000000;\n",
       "}\n",
       "#T_15a2b_row6_col3 {\n",
       "  background-color: #e8e8b4;\n",
       "  color: #000000;\n",
       "}\n",
       "#T_15a2b_row6_col4 {\n",
       "  background-color: #f3f3d8;\n",
       "  color: #000000;\n",
       "}\n",
       "#T_15a2b_row7_col1 {\n",
       "  background-color: #e8e7b3;\n",
       "  color: #000000;\n",
       "}\n",
       "#T_15a2b_row7_col2 {\n",
       "  background-color: #f0f0cf;\n",
       "  color: #000000;\n",
       "}\n",
       "#T_15a2b_row7_col3, #T_15a2b_row8_col1 {\n",
       "  background-color: #f3f3da;\n",
       "  color: #000000;\n",
       "}\n",
       "#T_15a2b_row7_col4 {\n",
       "  background-color: #efefcc;\n",
       "  color: #000000;\n",
       "}\n",
       "#T_15a2b_row8_col0 {\n",
       "  background-color: #b67676;\n",
       "  color: #f1f1f1;\n",
       "}\n",
       "#T_15a2b_row8_col2 {\n",
       "  background-color: #d1ad94;\n",
       "  color: #000000;\n",
       "}\n",
       "#T_15a2b_row8_col3 {\n",
       "  background-color: #e3dcad;\n",
       "  color: #000000;\n",
       "}\n",
       "#T_15a2b_row8_col4 {\n",
       "  background-color: #dbc7a2;\n",
       "  color: #000000;\n",
       "}\n",
       "#T_15a2b_row9_col0, #T_15a2b_row9_col1, #T_15a2b_row9_col2, #T_15a2b_row9_col3, #T_15a2b_row9_col4 {\n",
       "  background-color: #1e0000;\n",
       "  color: #f1f1f1;\n",
       "}\n",
       "</style>\n",
       "<table id=\"T_15a2b\">\n",
       "  <thead>\n",
       "    <tr>\n",
       "      <th class=\"blank\" >&nbsp;</th>\n",
       "      <th class=\"index_name level0\" >Sex</th>\n",
       "      <th id=\"T_15a2b_level0_col0\" class=\"col_heading level0 col0\" colspan=\"2\">female</th>\n",
       "      <th id=\"T_15a2b_level0_col2\" class=\"col_heading level0 col2\" colspan=\"2\">male</th>\n",
       "      <th id=\"T_15a2b_level0_col4\" class=\"col_heading level0 col4\" >All</th>\n",
       "    </tr>\n",
       "    <tr>\n",
       "      <th class=\"blank\" >&nbsp;</th>\n",
       "      <th class=\"index_name level1\" >Survived</th>\n",
       "      <th id=\"T_15a2b_level1_col0\" class=\"col_heading level1 col0\" >0</th>\n",
       "      <th id=\"T_15a2b_level1_col1\" class=\"col_heading level1 col1\" >1</th>\n",
       "      <th id=\"T_15a2b_level1_col2\" class=\"col_heading level1 col2\" >0</th>\n",
       "      <th id=\"T_15a2b_level1_col3\" class=\"col_heading level1 col3\" >1</th>\n",
       "      <th id=\"T_15a2b_level1_col4\" class=\"col_heading level1 col4\" ></th>\n",
       "    </tr>\n",
       "    <tr>\n",
       "      <th class=\"index_name level0\" >Embarked</th>\n",
       "      <th class=\"index_name level1\" >Pclass</th>\n",
       "      <th class=\"blank col0\" >&nbsp;</th>\n",
       "      <th class=\"blank col1\" >&nbsp;</th>\n",
       "      <th class=\"blank col2\" >&nbsp;</th>\n",
       "      <th class=\"blank col3\" >&nbsp;</th>\n",
       "      <th class=\"blank col4\" >&nbsp;</th>\n",
       "    </tr>\n",
       "  </thead>\n",
       "  <tbody>\n",
       "    <tr>\n",
       "      <th id=\"T_15a2b_level0_row0\" class=\"row_heading level0 row0\" rowspan=\"3\">C</th>\n",
       "      <th id=\"T_15a2b_level1_row0\" class=\"row_heading level1 row0\" >1</th>\n",
       "      <td id=\"T_15a2b_row0_col0\" class=\"data row0 col0\" >1</td>\n",
       "      <td id=\"T_15a2b_row0_col1\" class=\"data row0 col1\" >42</td>\n",
       "      <td id=\"T_15a2b_row0_col2\" class=\"data row0 col2\" >25</td>\n",
       "      <td id=\"T_15a2b_row0_col3\" class=\"data row0 col3\" >17</td>\n",
       "      <td id=\"T_15a2b_row0_col4\" class=\"data row0 col4\" >85</td>\n",
       "    </tr>\n",
       "    <tr>\n",
       "      <th id=\"T_15a2b_level1_row1\" class=\"row_heading level1 row1\" >2</th>\n",
       "      <td id=\"T_15a2b_row1_col0\" class=\"data row1 col0\" >0</td>\n",
       "      <td id=\"T_15a2b_row1_col1\" class=\"data row1 col1\" >7</td>\n",
       "      <td id=\"T_15a2b_row1_col2\" class=\"data row1 col2\" >8</td>\n",
       "      <td id=\"T_15a2b_row1_col3\" class=\"data row1 col3\" >2</td>\n",
       "      <td id=\"T_15a2b_row1_col4\" class=\"data row1 col4\" >17</td>\n",
       "    </tr>\n",
       "    <tr>\n",
       "      <th id=\"T_15a2b_level1_row2\" class=\"row_heading level1 row2\" >3</th>\n",
       "      <td id=\"T_15a2b_row2_col0\" class=\"data row2 col0\" >8</td>\n",
       "      <td id=\"T_15a2b_row2_col1\" class=\"data row2 col1\" >15</td>\n",
       "      <td id=\"T_15a2b_row2_col2\" class=\"data row2 col2\" >33</td>\n",
       "      <td id=\"T_15a2b_row2_col3\" class=\"data row2 col3\" >10</td>\n",
       "      <td id=\"T_15a2b_row2_col4\" class=\"data row2 col4\" >66</td>\n",
       "    </tr>\n",
       "    <tr>\n",
       "      <th id=\"T_15a2b_level0_row3\" class=\"row_heading level0 row3\" rowspan=\"3\">Q</th>\n",
       "      <th id=\"T_15a2b_level1_row3\" class=\"row_heading level1 row3\" >1</th>\n",
       "      <td id=\"T_15a2b_row3_col0\" class=\"data row3 col0\" >0</td>\n",
       "      <td id=\"T_15a2b_row3_col1\" class=\"data row3 col1\" >1</td>\n",
       "      <td id=\"T_15a2b_row3_col2\" class=\"data row3 col2\" >1</td>\n",
       "      <td id=\"T_15a2b_row3_col3\" class=\"data row3 col3\" >0</td>\n",
       "      <td id=\"T_15a2b_row3_col4\" class=\"data row3 col4\" >2</td>\n",
       "    </tr>\n",
       "    <tr>\n",
       "      <th id=\"T_15a2b_level1_row4\" class=\"row_heading level1 row4\" >2</th>\n",
       "      <td id=\"T_15a2b_row4_col0\" class=\"data row4 col0\" >0</td>\n",
       "      <td id=\"T_15a2b_row4_col1\" class=\"data row4 col1\" >2</td>\n",
       "      <td id=\"T_15a2b_row4_col2\" class=\"data row4 col2\" >1</td>\n",
       "      <td id=\"T_15a2b_row4_col3\" class=\"data row4 col3\" >0</td>\n",
       "      <td id=\"T_15a2b_row4_col4\" class=\"data row4 col4\" >3</td>\n",
       "    </tr>\n",
       "    <tr>\n",
       "      <th id=\"T_15a2b_level1_row5\" class=\"row_heading level1 row5\" >3</th>\n",
       "      <td id=\"T_15a2b_row5_col0\" class=\"data row5 col0\" >9</td>\n",
       "      <td id=\"T_15a2b_row5_col1\" class=\"data row5 col1\" >24</td>\n",
       "      <td id=\"T_15a2b_row5_col2\" class=\"data row5 col2\" >36</td>\n",
       "      <td id=\"T_15a2b_row5_col3\" class=\"data row5 col3\" >3</td>\n",
       "      <td id=\"T_15a2b_row5_col4\" class=\"data row5 col4\" >72</td>\n",
       "    </tr>\n",
       "    <tr>\n",
       "      <th id=\"T_15a2b_level0_row6\" class=\"row_heading level0 row6\" rowspan=\"3\">S</th>\n",
       "      <th id=\"T_15a2b_level1_row6\" class=\"row_heading level1 row6\" >1</th>\n",
       "      <td id=\"T_15a2b_row6_col0\" class=\"data row6 col0\" >2</td>\n",
       "      <td id=\"T_15a2b_row6_col1\" class=\"data row6 col1\" >46</td>\n",
       "      <td id=\"T_15a2b_row6_col2\" class=\"data row6 col2\" >51</td>\n",
       "      <td id=\"T_15a2b_row6_col3\" class=\"data row6 col3\" >28</td>\n",
       "      <td id=\"T_15a2b_row6_col4\" class=\"data row6 col4\" >127</td>\n",
       "    </tr>\n",
       "    <tr>\n",
       "      <th id=\"T_15a2b_level1_row7\" class=\"row_heading level1 row7\" >2</th>\n",
       "      <td id=\"T_15a2b_row7_col0\" class=\"data row7 col0\" >6</td>\n",
       "      <td id=\"T_15a2b_row7_col1\" class=\"data row7 col1\" >61</td>\n",
       "      <td id=\"T_15a2b_row7_col2\" class=\"data row7 col2\" >82</td>\n",
       "      <td id=\"T_15a2b_row7_col3\" class=\"data row7 col3\" >15</td>\n",
       "      <td id=\"T_15a2b_row7_col4\" class=\"data row7 col4\" >164</td>\n",
       "    </tr>\n",
       "    <tr>\n",
       "      <th id=\"T_15a2b_level1_row8\" class=\"row_heading level1 row8\" >3</th>\n",
       "      <td id=\"T_15a2b_row8_col0\" class=\"data row8 col0\" >55</td>\n",
       "      <td id=\"T_15a2b_row8_col1\" class=\"data row8 col1\" >33</td>\n",
       "      <td id=\"T_15a2b_row8_col2\" class=\"data row8 col2\" >231</td>\n",
       "      <td id=\"T_15a2b_row8_col3\" class=\"data row8 col3\" >34</td>\n",
       "      <td id=\"T_15a2b_row8_col4\" class=\"data row8 col4\" >353</td>\n",
       "    </tr>\n",
       "    <tr>\n",
       "      <th id=\"T_15a2b_level0_row9\" class=\"row_heading level0 row9\" >All</th>\n",
       "      <th id=\"T_15a2b_level1_row9\" class=\"row_heading level1 row9\" ></th>\n",
       "      <td id=\"T_15a2b_row9_col0\" class=\"data row9 col0\" >81</td>\n",
       "      <td id=\"T_15a2b_row9_col1\" class=\"data row9 col1\" >231</td>\n",
       "      <td id=\"T_15a2b_row9_col2\" class=\"data row9 col2\" >468</td>\n",
       "      <td id=\"T_15a2b_row9_col3\" class=\"data row9 col3\" >109</td>\n",
       "      <td id=\"T_15a2b_row9_col4\" class=\"data row9 col4\" >889</td>\n",
       "    </tr>\n",
       "  </tbody>\n",
       "</table>\n"
      ],
      "text/plain": [
       "<pandas.io.formats.style.Styler at 0x7fe154d14fd0>"
      ]
     },
     "execution_count": 12,
     "metadata": {},
     "output_type": "execute_result"
    }
   ],
   "source": [
    "pd.crosstab([df_entrenamiento.Embarked,df_entrenamiento.Pclass],[df_entrenamiento.Sex,df_entrenamiento.Survived],margins=True).style.background_gradient(cmap='pink_r')"
   ]
  },
  {
   "cell_type": "markdown",
   "id": "2ff28d3b",
   "metadata": {},
   "source": [
    "# Análisis de las variables numericas \n",
    "## Análisis por sexo y tarifa\n"
   ]
  },
  {
   "cell_type": "code",
   "execution_count": 13,
   "id": "7e60bfe4",
   "metadata": {},
   "outputs": [
    {
     "data": {
      "text/plain": [
       "<seaborn.axisgrid.FacetGrid at 0x7fe1542a0610>"
      ]
     },
     "execution_count": 13,
     "metadata": {},
     "output_type": "execute_result"
    },
    {
     "data": {
      "image/png": "[encoded data removed]",
      "text/plain": [
       "<Figure size 771.875x360 with 2 Axes>"
      ]
     },
     "metadata": {
      "needs_background": "light"
     },
     "output_type": "display_data"
    }
   ],
   "source": [
    "# Análisis por sexo-edad-tarifa \n",
    "sns.relplot(x='Age', y='Fare', data=df_entrenamiento,\n",
    "            kind='scatter', hue='Survived', col='Sex', palette='pink_r')"
   ]
  },
  {
   "cell_type": "markdown",
   "id": "e3db28c4",
   "metadata": {},
   "source": [
    "# Análisis por clase "
   ]
  },
  {
   "cell_type": "code",
   "execution_count": 14,
   "id": "e279ad50",
   "metadata": {},
   "outputs": [
    {
     "data": {
      "text/plain": [
       "<seaborn.axisgrid.FacetGrid at 0x7fe1542e8f40>"
      ]
     },
     "execution_count": 14,
     "metadata": {},
     "output_type": "execute_result"
    },
    {
     "data": {
      "image/png": "[encoded data removed]",
      "text/plain": [
       "<Figure size 1131.88x360 with 3 Axes>"
      ]
     },
     "metadata": {
      "needs_background": "light"
     },
     "output_type": "display_data"
    }
   ],
   "source": [
    "sns.relplot(x='Age', y='Fare', data=df_entrenamiento,\n",
    "            kind='scatter', hue='Survived', col='Pclass', palette='pink_r')"
   ]
  },
  {
   "cell_type": "markdown",
   "id": "21427cb2",
   "metadata": {},
   "source": [
    "# Pasaremos la edad a deciles para ver la dispersión más fácilemente con respecto a la tarifa del ticket"
   ]
  },
  {
   "cell_type": "code",
   "execution_count": 15,
   "id": "ce30ba77",
   "metadata": {},
   "outputs": [
    {
     "data": {
      "text/plain": [
       "<seaborn.axisgrid.FacetGrid at 0x7fe153e780d0>"
      ]
     },
     "execution_count": 15,
     "metadata": {},
     "output_type": "execute_result"
    },
    {
     "data": {
      "image/png": "[encoded data removed]",
      "text/plain": [
       "<Figure size 864x432 with 2 Axes>"
      ]
     },
     "metadata": {
      "needs_background": "light"
     },
     "output_type": "display_data"
    }
   ],
   "source": [
    "df_entrenamiento[\"Age_q\"] = pd.qcut(df_entrenamiento['Age'], q=10, precision=0)\n",
    "sns.catplot(\n",
    "    data=df_entrenamiento,\n",
    "    x='Age_q',\n",
    "    y='Fare',\n",
    "    row='Survived',\n",
    "    kind='box',\n",
    "    height=3, \n",
    "    aspect=4,\n",
    "    color='crimson')"
   ]
  },
  {
   "cell_type": "markdown",
   "id": "112ff09b",
   "metadata": {},
   "source": [
    "# Finalmente revisamos la distribución y relación de las variables edad y tarifa"
   ]
  },
  {
   "cell_type": "code",
   "execution_count": 16,
   "id": "d48cffab",
   "metadata": {},
   "outputs": [
    {
     "data": {
      "text/plain": [
       "<Figure size 1440x720 with 0 Axes>"
      ]
     },
     "metadata": {},
     "output_type": "display_data"
    },
    {
     "data": {
      "image/png": "[encoded data removed]",
      "text/plain": [
       "<Figure size 411.875x360 with 6 Axes>"
      ]
     },
     "metadata": {
      "needs_background": "light"
     },
     "output_type": "display_data"
    }
   ],
   "source": [
    "plt.figure(figsize=(20, 10))\n",
    "sns.pairplot(df_entrenamiento[[\"Age\",\"Fare\",\"Survived\"]], kind=\"reg\", diag_kind=\"kde\", hue=\"Survived\", palette=\"pink_r\")\n",
    "plt.show()"
   ]
  },
  {
   "cell_type": "markdown",
   "id": "0a993113",
   "metadata": {},
   "source": [
    "# Limpieza y transformación\n",
    "### Variables categóricas se trabsformaran mediante \"One-Hot\"\n",
    "### Variales con outliers:\n",
    "### Variables con nulos: se reemplazarán por la media/moda"
   ]
  },
  {
   "cell_type": "code",
   "execution_count": 17,
   "id": "48256e72",
   "metadata": {},
   "outputs": [],
   "source": [
    "# Selección de datos\n",
    "## Eliminanos la columna Cabin y nos quedamos sólo con la variable creada \"Cabin_letter\" \n",
    "df_entrenamiento.drop(\"Cabin\",axis = 1 ,  inplace = True)\n",
    "\n",
    "# Completamos las dos filas con datos nulos en \"Embarket\" por la \"Moda\" = S \n",
    "df_entrenamiento.loc[df_entrenamiento[\"Embarked\"].isnull() , \"Embarked\"] = \"S\"\n",
    "#df_train.Embarked.value_counts()\n",
    "# Y, la variable \"Edad\" reemplazamos por la media de edad de acuerdo a la variable supervivencia, por clase y sexo\n",
    "for s in range(0, 2):\n",
    "    for c in range(1, 4):\n",
    "        for g in [\"female\",\"male\"]:\n",
    "            media = (df_entrenamiento.Age[(df_entrenamiento.Survived == s) & (df_entrenamiento.Pclass == c) & (df_entrenamiento.Sex == g)].mean())\n",
    "            df_entrenamiento.loc[(df_entrenamiento.Age.isnull()) & (df_entrenamiento.Survived == s) & (df_entrenamiento.Pclass == c) & (df_entrenamiento.Sex == g), \"Age\"] = media  \n",
    "            df_prueba.loc[ (df_prueba.Age.isnull())  & (df_prueba.Pclass == c)  & (df_prueba.Sex == g) , \"Age\"] = media"
   ]
  },
  {
   "cell_type": "markdown",
   "id": "6765b458",
   "metadata": {},
   "source": [
    "# Realizamos las transformaciones"
   ]
  },
  {
   "cell_type": "code",
   "execution_count": 18,
   "id": "7888ef25",
   "metadata": {},
   "outputs": [
    {
     "name": "stdout",
     "output_type": "stream",
     "text": [
      "Age     15.0000\n",
      "Fare    23.0896\n",
      "dtype: float64\n"
     ]
    }
   ],
   "source": [
    "from sklearn.preprocessing import RobustScaler\n",
    "# Revisamos los outliers\n",
    "Q1 = df_entrenamiento[[\"Age\",\"Fare\"]].quantile(0.25)\n",
    "Q3 = df_entrenamiento[[\"Age\",\"Fare\"]].quantile(0.75)\n",
    "IQR = Q3 - Q1\n",
    "print(IQR)\n",
    "RS = RobustScaler(with_centering=False, with_scaling=True)\n",
    "df_entrenamiento[[\"Age\",\"Fare\"]] = RS.fit_transform(df_entrenamiento[[\"Age\",\"Fare\"]])"
   ]
  },
  {
   "cell_type": "markdown",
   "id": "bc6ac58b",
   "metadata": {},
   "source": [
    "# Con la siguiente tabla transformada se hará la predicción\n",
    "### Las variables categóricas las transformaremos en columnas mediante la estrategia \"One-Hot\"\n"
   ]
  },
  {
   "cell_type": "code",
   "execution_count": 20,
   "id": "c01dffaf",
   "metadata": {},
   "outputs": [
    {
     "data": {
      "text/html": [
       "<div>\n",
       "<style scoped>\n",
       "    .dataframe tbody tr th:only-of-type {\n",
       "        vertical-align: middle;\n",
       "    }\n",
       "\n",
       "    .dataframe tbody tr th {\n",
       "        vertical-align: top;\n",
       "    }\n",
       "\n",
       "    .dataframe thead th {\n",
       "        text-align: right;\n",
       "    }\n",
       "</style>\n",
       "<table border=\"1\" class=\"dataframe\">\n",
       "  <thead>\n",
       "    <tr style=\"text-align: right;\">\n",
       "      <th></th>\n",
       "      <th>Survived</th>\n",
       "      <th>Age</th>\n",
       "      <th>Fare</th>\n",
       "      <th>Sex_female</th>\n",
       "      <th>Sex_male</th>\n",
       "      <th>Cabin_letter_A</th>\n",
       "      <th>Cabin_letter_B</th>\n",
       "      <th>Cabin_letter_C</th>\n",
       "      <th>Cabin_letter_D</th>\n",
       "      <th>Cabin_letter_E</th>\n",
       "      <th>Cabin_letter_F</th>\n",
       "      <th>Cabin_letter_G</th>\n",
       "      <th>Cabin_letter_T</th>\n",
       "      <th>Cabin_letter_X</th>\n",
       "      <th>Embarked_C</th>\n",
       "      <th>Embarked_Q</th>\n",
       "      <th>Embarked_S</th>\n",
       "      <th>1</th>\n",
       "      <th>2</th>\n",
       "      <th>3</th>\n",
       "    </tr>\n",
       "    <tr>\n",
       "      <th>PassengerId</th>\n",
       "      <th></th>\n",
       "      <th></th>\n",
       "      <th></th>\n",
       "      <th></th>\n",
       "      <th></th>\n",
       "      <th></th>\n",
       "      <th></th>\n",
       "      <th></th>\n",
       "      <th></th>\n",
       "      <th></th>\n",
       "      <th></th>\n",
       "      <th></th>\n",
       "      <th></th>\n",
       "      <th></th>\n",
       "      <th></th>\n",
       "      <th></th>\n",
       "      <th></th>\n",
       "      <th></th>\n",
       "      <th></th>\n",
       "      <th></th>\n",
       "    </tr>\n",
       "  </thead>\n",
       "  <tbody>\n",
       "    <tr>\n",
       "      <th>1</th>\n",
       "      <td>0</td>\n",
       "      <td>1.466667</td>\n",
       "      <td>0.313994</td>\n",
       "      <td>0</td>\n",
       "      <td>1</td>\n",
       "      <td>0</td>\n",
       "      <td>0</td>\n",
       "      <td>0</td>\n",
       "      <td>0</td>\n",
       "      <td>0</td>\n",
       "      <td>0</td>\n",
       "      <td>0</td>\n",
       "      <td>0</td>\n",
       "      <td>1</td>\n",
       "      <td>0</td>\n",
       "      <td>0</td>\n",
       "      <td>1</td>\n",
       "      <td>0</td>\n",
       "      <td>0</td>\n",
       "      <td>1</td>\n",
       "    </tr>\n",
       "    <tr>\n",
       "      <th>2</th>\n",
       "      <td>1</td>\n",
       "      <td>2.533333</td>\n",
       "      <td>3.087247</td>\n",
       "      <td>1</td>\n",
       "      <td>0</td>\n",
       "      <td>0</td>\n",
       "      <td>0</td>\n",
       "      <td>1</td>\n",
       "      <td>0</td>\n",
       "      <td>0</td>\n",
       "      <td>0</td>\n",
       "      <td>0</td>\n",
       "      <td>0</td>\n",
       "      <td>0</td>\n",
       "      <td>1</td>\n",
       "      <td>0</td>\n",
       "      <td>0</td>\n",
       "      <td>1</td>\n",
       "      <td>0</td>\n",
       "      <td>0</td>\n",
       "    </tr>\n",
       "    <tr>\n",
       "      <th>3</th>\n",
       "      <td>1</td>\n",
       "      <td>1.733333</td>\n",
       "      <td>0.343228</td>\n",
       "      <td>1</td>\n",
       "      <td>0</td>\n",
       "      <td>0</td>\n",
       "      <td>0</td>\n",
       "      <td>0</td>\n",
       "      <td>0</td>\n",
       "      <td>0</td>\n",
       "      <td>0</td>\n",
       "      <td>0</td>\n",
       "      <td>0</td>\n",
       "      <td>1</td>\n",
       "      <td>0</td>\n",
       "      <td>0</td>\n",
       "      <td>1</td>\n",
       "      <td>0</td>\n",
       "      <td>0</td>\n",
       "      <td>1</td>\n",
       "    </tr>\n",
       "    <tr>\n",
       "      <th>4</th>\n",
       "      <td>1</td>\n",
       "      <td>2.333333</td>\n",
       "      <td>2.299737</td>\n",
       "      <td>1</td>\n",
       "      <td>0</td>\n",
       "      <td>0</td>\n",
       "      <td>0</td>\n",
       "      <td>1</td>\n",
       "      <td>0</td>\n",
       "      <td>0</td>\n",
       "      <td>0</td>\n",
       "      <td>0</td>\n",
       "      <td>0</td>\n",
       "      <td>0</td>\n",
       "      <td>0</td>\n",
       "      <td>0</td>\n",
       "      <td>1</td>\n",
       "      <td>1</td>\n",
       "      <td>0</td>\n",
       "      <td>0</td>\n",
       "    </tr>\n",
       "    <tr>\n",
       "      <th>5</th>\n",
       "      <td>0</td>\n",
       "      <td>2.333333</td>\n",
       "      <td>0.348642</td>\n",
       "      <td>0</td>\n",
       "      <td>1</td>\n",
       "      <td>0</td>\n",
       "      <td>0</td>\n",
       "      <td>0</td>\n",
       "      <td>0</td>\n",
       "      <td>0</td>\n",
       "      <td>0</td>\n",
       "      <td>0</td>\n",
       "      <td>0</td>\n",
       "      <td>1</td>\n",
       "      <td>0</td>\n",
       "      <td>0</td>\n",
       "      <td>1</td>\n",
       "      <td>0</td>\n",
       "      <td>0</td>\n",
       "      <td>1</td>\n",
       "    </tr>\n",
       "  </tbody>\n",
       "</table>\n",
       "</div>"
      ],
      "text/plain": [
       "             Survived       Age      Fare  Sex_female  Sex_male  \\\n",
       "PassengerId                                                       \n",
       "1                   0  1.466667  0.313994           0         1   \n",
       "2                   1  2.533333  3.087247           1         0   \n",
       "3                   1  1.733333  0.343228           1         0   \n",
       "4                   1  2.333333  2.299737           1         0   \n",
       "5                   0  2.333333  0.348642           0         1   \n",
       "\n",
       "             Cabin_letter_A  Cabin_letter_B  Cabin_letter_C  Cabin_letter_D  \\\n",
       "PassengerId                                                                   \n",
       "1                         0               0               0               0   \n",
       "2                         0               0               1               0   \n",
       "3                         0               0               0               0   \n",
       "4                         0               0               1               0   \n",
       "5                         0               0               0               0   \n",
       "\n",
       "             Cabin_letter_E  Cabin_letter_F  Cabin_letter_G  Cabin_letter_T  \\\n",
       "PassengerId                                                                   \n",
       "1                         0               0               0               0   \n",
       "2                         0               0               0               0   \n",
       "3                         0               0               0               0   \n",
       "4                         0               0               0               0   \n",
       "5                         0               0               0               0   \n",
       "\n",
       "             Cabin_letter_X  Embarked_C  Embarked_Q  Embarked_S  1  2  3  \n",
       "PassengerId                                                               \n",
       "1                         1           0           0           1  0  0  1  \n",
       "2                         0           1           0           0  1  0  0  \n",
       "3                         1           0           0           1  0  0  1  \n",
       "4                         0           0           0           1  1  0  0  \n",
       "5                         1           0           0           1  0  0  1  "
      ]
     },
     "execution_count": 20,
     "metadata": {},
     "output_type": "execute_result"
    }
   ],
   "source": [
    "df_entrenamiento_t = pd.get_dummies(df_entrenamiento[[ \"Survived\",\"Age\",\"Fare\", 'Sex', 'Cabin_letter', 'Embarked']])\n",
    "df_entrenamiento_t = pd.concat( [df_entrenamiento_t, pd.get_dummies(df_entrenamiento.Pclass.astype(str))], axis = 1)\n",
    "df_entrenamiento_t.head()"
   ]
  },
  {
   "cell_type": "markdown",
   "id": "b4b088ee",
   "metadata": {},
   "source": [
    "# Ajuste del modelo\n",
    "## De acuerdo a los patrones encontrados se obtiene la tabla que se le pasará al modelo en el momento de ser entrenado"
   ]
  },
  {
   "cell_type": "code",
   "execution_count": 22,
   "id": "3807d410",
   "metadata": {},
   "outputs": [
    {
     "data": {
      "text/plain": [
       "KNeighborsClassifier(n_neighbors=3)"
      ]
     },
     "execution_count": 22,
     "metadata": {},
     "output_type": "execute_result"
    }
   ],
   "source": [
    "from sklearn.model_selection import train_test_split\n",
    "y = df_entrenamiento_t[\"Survived\"]\n",
    "X = df_entrenamiento_t.drop(['Survived'], axis=1, inplace=False)\n",
    "\n",
    "X_train, X_valid, y_train, y_valid = train_test_split(X, y, train_size=0.8, test_size=0.2,\n",
    "                                                                random_state=0)\n",
    "\n",
    "from sklearn.neighbors import KNeighborsClassifier\n",
    "\n",
    "modelo =  KNeighborsClassifier(n_neighbors=3)\n",
    "modelo.fit(X_train, y_train)"
   ]
  },
  {
   "cell_type": "markdown",
   "id": "7d32e04a",
   "metadata": {},
   "source": [
    "# Evaluación y validación "
   ]
  },
  {
   "cell_type": "code",
   "execution_count": 24,
   "id": "abc0e716",
   "metadata": {},
   "outputs": [
    {
     "data": {
      "text/html": [
       "<div>\n",
       "<style scoped>\n",
       "    .dataframe tbody tr th:only-of-type {\n",
       "        vertical-align: middle;\n",
       "    }\n",
       "\n",
       "    .dataframe tbody tr th {\n",
       "        vertical-align: top;\n",
       "    }\n",
       "\n",
       "    .dataframe thead th {\n",
       "        text-align: right;\n",
       "    }\n",
       "</style>\n",
       "<table border=\"1\" class=\"dataframe\">\n",
       "  <thead>\n",
       "    <tr style=\"text-align: right;\">\n",
       "      <th></th>\n",
       "      <th>Age</th>\n",
       "      <th>Fare</th>\n",
       "      <th>Sex_female</th>\n",
       "      <th>Sex_male</th>\n",
       "      <th>Cabin_letter_A</th>\n",
       "      <th>Cabin_letter_B</th>\n",
       "      <th>Cabin_letter_C</th>\n",
       "      <th>Cabin_letter_D</th>\n",
       "      <th>Cabin_letter_E</th>\n",
       "      <th>Cabin_letter_F</th>\n",
       "      <th>Cabin_letter_G</th>\n",
       "      <th>Cabin_letter_T</th>\n",
       "      <th>Cabin_letter_X</th>\n",
       "      <th>Embarked_C</th>\n",
       "      <th>Embarked_Q</th>\n",
       "      <th>Embarked_S</th>\n",
       "      <th>1</th>\n",
       "      <th>2</th>\n",
       "      <th>3</th>\n",
       "    </tr>\n",
       "    <tr>\n",
       "      <th>PassengerId</th>\n",
       "      <th></th>\n",
       "      <th></th>\n",
       "      <th></th>\n",
       "      <th></th>\n",
       "      <th></th>\n",
       "      <th></th>\n",
       "      <th></th>\n",
       "      <th></th>\n",
       "      <th></th>\n",
       "      <th></th>\n",
       "      <th></th>\n",
       "      <th></th>\n",
       "      <th></th>\n",
       "      <th></th>\n",
       "      <th></th>\n",
       "      <th></th>\n",
       "      <th></th>\n",
       "      <th></th>\n",
       "      <th></th>\n",
       "    </tr>\n",
       "  </thead>\n",
       "  <tbody>\n",
       "    <tr>\n",
       "      <th>892</th>\n",
       "      <td>34.5</td>\n",
       "      <td>7.8292</td>\n",
       "      <td>0</td>\n",
       "      <td>1</td>\n",
       "      <td>0</td>\n",
       "      <td>0</td>\n",
       "      <td>0</td>\n",
       "      <td>0</td>\n",
       "      <td>0</td>\n",
       "      <td>0</td>\n",
       "      <td>0</td>\n",
       "      <td>0</td>\n",
       "      <td>1</td>\n",
       "      <td>0</td>\n",
       "      <td>1</td>\n",
       "      <td>0</td>\n",
       "      <td>0</td>\n",
       "      <td>0</td>\n",
       "      <td>1</td>\n",
       "    </tr>\n",
       "    <tr>\n",
       "      <th>893</th>\n",
       "      <td>47.0</td>\n",
       "      <td>7.0000</td>\n",
       "      <td>1</td>\n",
       "      <td>0</td>\n",
       "      <td>0</td>\n",
       "      <td>0</td>\n",
       "      <td>0</td>\n",
       "      <td>0</td>\n",
       "      <td>0</td>\n",
       "      <td>0</td>\n",
       "      <td>0</td>\n",
       "      <td>0</td>\n",
       "      <td>1</td>\n",
       "      <td>0</td>\n",
       "      <td>0</td>\n",
       "      <td>1</td>\n",
       "      <td>0</td>\n",
       "      <td>0</td>\n",
       "      <td>1</td>\n",
       "    </tr>\n",
       "    <tr>\n",
       "      <th>894</th>\n",
       "      <td>62.0</td>\n",
       "      <td>9.6875</td>\n",
       "      <td>0</td>\n",
       "      <td>1</td>\n",
       "      <td>0</td>\n",
       "      <td>0</td>\n",
       "      <td>0</td>\n",
       "      <td>0</td>\n",
       "      <td>0</td>\n",
       "      <td>0</td>\n",
       "      <td>0</td>\n",
       "      <td>0</td>\n",
       "      <td>1</td>\n",
       "      <td>0</td>\n",
       "      <td>1</td>\n",
       "      <td>0</td>\n",
       "      <td>0</td>\n",
       "      <td>1</td>\n",
       "      <td>0</td>\n",
       "    </tr>\n",
       "    <tr>\n",
       "      <th>895</th>\n",
       "      <td>27.0</td>\n",
       "      <td>8.6625</td>\n",
       "      <td>0</td>\n",
       "      <td>1</td>\n",
       "      <td>0</td>\n",
       "      <td>0</td>\n",
       "      <td>0</td>\n",
       "      <td>0</td>\n",
       "      <td>0</td>\n",
       "      <td>0</td>\n",
       "      <td>0</td>\n",
       "      <td>0</td>\n",
       "      <td>1</td>\n",
       "      <td>0</td>\n",
       "      <td>0</td>\n",
       "      <td>1</td>\n",
       "      <td>0</td>\n",
       "      <td>0</td>\n",
       "      <td>1</td>\n",
       "    </tr>\n",
       "    <tr>\n",
       "      <th>896</th>\n",
       "      <td>22.0</td>\n",
       "      <td>12.2875</td>\n",
       "      <td>1</td>\n",
       "      <td>0</td>\n",
       "      <td>0</td>\n",
       "      <td>0</td>\n",
       "      <td>0</td>\n",
       "      <td>0</td>\n",
       "      <td>0</td>\n",
       "      <td>0</td>\n",
       "      <td>0</td>\n",
       "      <td>0</td>\n",
       "      <td>1</td>\n",
       "      <td>0</td>\n",
       "      <td>0</td>\n",
       "      <td>1</td>\n",
       "      <td>0</td>\n",
       "      <td>0</td>\n",
       "      <td>1</td>\n",
       "    </tr>\n",
       "  </tbody>\n",
       "</table>\n",
       "</div>"
      ],
      "text/plain": [
       "              Age     Fare  Sex_female  Sex_male  Cabin_letter_A  \\\n",
       "PassengerId                                                        \n",
       "892          34.5   7.8292           0         1               0   \n",
       "893          47.0   7.0000           1         0               0   \n",
       "894          62.0   9.6875           0         1               0   \n",
       "895          27.0   8.6625           0         1               0   \n",
       "896          22.0  12.2875           1         0               0   \n",
       "\n",
       "             Cabin_letter_B  Cabin_letter_C  Cabin_letter_D  Cabin_letter_E  \\\n",
       "PassengerId                                                                   \n",
       "892                       0               0               0               0   \n",
       "893                       0               0               0               0   \n",
       "894                       0               0               0               0   \n",
       "895                       0               0               0               0   \n",
       "896                       0               0               0               0   \n",
       "\n",
       "             Cabin_letter_F  Cabin_letter_G  Cabin_letter_T  Cabin_letter_X  \\\n",
       "PassengerId                                                                   \n",
       "892                       0               0               0               1   \n",
       "893                       0               0               0               1   \n",
       "894                       0               0               0               1   \n",
       "895                       0               0               0               1   \n",
       "896                       0               0               0               1   \n",
       "\n",
       "             Embarked_C  Embarked_Q  Embarked_S  1  2  3  \n",
       "PassengerId                                               \n",
       "892                   0           1           0  0  0  1  \n",
       "893                   0           0           1  0  0  1  \n",
       "894                   0           1           0  0  1  0  \n",
       "895                   0           0           1  0  0  1  \n",
       "896                   0           0           1  0  0  1  "
      ]
     },
     "execution_count": 24,
     "metadata": {},
     "output_type": "execute_result"
    }
   ],
   "source": [
    "# Aplicamos las transformaciones al set de datos de test \n",
    "RS.transform(df_prueba[[\"Age\",\"Fare\"]])\n",
    "df_prueba.loc[df_prueba[\"Embarked\"].isnull() , \"Embarked\"] = \"S\"\n",
    "df_prueba.loc[df_prueba[\"Fare\"].isnull() , \"Fare\"] = df_entrenamiento.Fare.mean() \n",
    "df_prueba.Cabin.fillna(\"XX\", inplace = True)\n",
    "df_prueba['Cabin_letter'] =df_prueba.Cabin.str.slice(0, 1)\n",
    "df_prueba_t = pd.get_dummies(df_prueba[[ \"Age\",\"Fare\", 'Sex', 'Cabin_letter', 'Embarked']])\n",
    "df_prueba_t.insert(11, \"Cabin_letter_T\", 0) # No había nadie en la zona T \n",
    "df_prueba_t = pd.concat( [df_prueba_t, pd.get_dummies(df_prueba.Pclass.astype(str))], axis = 1)\n",
    "df_prueba_t.head()"
   ]
  },
  {
   "cell_type": "code",
   "execution_count": 26,
   "id": "4f028671",
   "metadata": {},
   "outputs": [],
   "source": [
    "# Generate test predictions\n",
    "preds_test = modelo.predict(df_prueba_t)\n",
    "\n",
    "\n",
    "# Save predictions in format used for competition scoring\n",
    "output = pd.DataFrame({'PassengerId': df_prueba_t.index,\n",
    "                       'Survived': preds_test})\n",
    "output.to_csv('submission_T_KNN_v2.csv', index=False)"
   ]
  }
 ],
 "metadata": {
  "kernelspec": {
   "display_name": "Python 3 (ipykernel)",
   "language": "python",
   "name": "python3"
  },
  "language_info": {
   "codemirror_mode": {
    "name": "ipython",
    "version": 3
   },
   "file_extension": ".py",
   "mimetype": "text/x-python",
   "name": "python",
   "nbconvert_exporter": "python",
   "pygments_lexer": "ipython3",
   "version": "3.9.7"
  }
 },
 "nbformat": 4,
 "nbformat_minor": 5
}
